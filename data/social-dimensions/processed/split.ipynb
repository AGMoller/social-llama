{
 "cells": [
  {
   "cell_type": "code",
   "execution_count": 1,
   "metadata": {},
   "outputs": [],
   "source": [
    "import pandas as pd"
   ]
  },
  {
   "cell_type": "code",
   "execution_count": 2,
   "metadata": {},
   "outputs": [
    {
     "data": {
      "text/html": [
       "<div>\n",
       "<style scoped>\n",
       "    .dataframe tbody tr th:only-of-type {\n",
       "        vertical-align: middle;\n",
       "    }\n",
       "\n",
       "    .dataframe tbody tr th {\n",
       "        vertical-align: top;\n",
       "    }\n",
       "\n",
       "    .dataframe thead th {\n",
       "        text-align: right;\n",
       "    }\n",
       "</style>\n",
       "<table border=\"1\" class=\"dataframe\">\n",
       "  <thead>\n",
       "    <tr style=\"text-align: right;\">\n",
       "      <th></th>\n",
       "      <th>idx</th>\n",
       "      <th>text</th>\n",
       "      <th>h_text</th>\n",
       "      <th>response_good</th>\n",
       "      <th>response_bad</th>\n",
       "    </tr>\n",
       "  </thead>\n",
       "  <tbody>\n",
       "    <tr>\n",
       "      <th>0</th>\n",
       "      <td>0</td>\n",
       "      <td>\"Fried rice\" in the US (at least the Northeast...</td>\n",
       "      <td>As such, I might assume that your rice in ques...</td>\n",
       "      <td>knowledge</td>\n",
       "      <td>similarity</td>\n",
       "    </tr>\n",
       "    <tr>\n",
       "      <th>1</th>\n",
       "      <td>0</td>\n",
       "      <td>\"Fried rice\" in the US (at least the Northeast...</td>\n",
       "      <td>As such, I might assume that your rice in ques...</td>\n",
       "      <td>power</td>\n",
       "      <td>social_support</td>\n",
       "    </tr>\n",
       "    <tr>\n",
       "      <th>2</th>\n",
       "      <td>1</td>\n",
       "      <td>\"Gerry, meanwhile, was running from pillar to ...</td>\n",
       "      <td>So, /u/secondsecretscrotum care to explain why...</td>\n",
       "      <td>conflict</td>\n",
       "      <td>respect</td>\n",
       "    </tr>\n",
       "    <tr>\n",
       "      <th>3</th>\n",
       "      <td>1</td>\n",
       "      <td>\"Gerry, meanwhile, was running from pillar to ...</td>\n",
       "      <td>So, /u/secondsecretscrotum care to explain why...</td>\n",
       "      <td>knowledge</td>\n",
       "      <td>identity</td>\n",
       "    </tr>\n",
       "    <tr>\n",
       "      <th>4</th>\n",
       "      <td>1</td>\n",
       "      <td>\"Gerry, meanwhile, was running from pillar to ...</td>\n",
       "      <td>So, /u/secondsecretscrotum care to explain why...</td>\n",
       "      <td>other</td>\n",
       "      <td>trust</td>\n",
       "    </tr>\n",
       "  </tbody>\n",
       "</table>\n",
       "</div>"
      ],
      "text/plain": [
       "   idx                                               text  \\\n",
       "0    0  \"Fried rice\" in the US (at least the Northeast...   \n",
       "1    0  \"Fried rice\" in the US (at least the Northeast...   \n",
       "2    1  \"Gerry, meanwhile, was running from pillar to ...   \n",
       "3    1  \"Gerry, meanwhile, was running from pillar to ...   \n",
       "4    1  \"Gerry, meanwhile, was running from pillar to ...   \n",
       "\n",
       "                                              h_text response_good  \\\n",
       "0  As such, I might assume that your rice in ques...     knowledge   \n",
       "1  As such, I might assume that your rice in ques...         power   \n",
       "2  So, /u/secondsecretscrotum care to explain why...      conflict   \n",
       "3  So, /u/secondsecretscrotum care to explain why...     knowledge   \n",
       "4  So, /u/secondsecretscrotum care to explain why...         other   \n",
       "\n",
       "     response_bad  \n",
       "0      similarity  \n",
       "1  social_support  \n",
       "2         respect  \n",
       "3        identity  \n",
       "4           trust  "
      ]
     },
     "execution_count": 2,
     "metadata": {},
     "output_type": "execute_result"
    }
   ],
   "source": [
    "df = pd.read_json(\"labeled_dataset.json\")\n",
    "df.head()"
   ]
  },
  {
   "cell_type": "code",
   "execution_count": 3,
   "metadata": {},
   "outputs": [],
   "source": [
    "from sklearn.model_selection import train_test_split\n",
    "\n",
    "# Get unique ids\n",
    "unique_ids = df['idx'].unique()\n",
    "\n",
    "# Split unique ids into train and test sets\n",
    "train_ids, test_ids = train_test_split(unique_ids, test_size=0.2, random_state=42)  # Adjust test_size as needed\n",
    "\n",
    "# Now create train and test dataframes based on these ids\n",
    "train_df = df[df['idx'].isin(train_ids)]\n",
    "test_df = df[df['idx'].isin(test_ids)]"
   ]
  },
  {
   "cell_type": "code",
   "execution_count": 14,
   "metadata": {},
   "outputs": [],
   "source": [
    "train_df.to_json(\"train.json\", orient='records')"
   ]
  },
  {
   "cell_type": "code",
   "execution_count": 15,
   "metadata": {},
   "outputs": [],
   "source": [
    "test_df.to_json(\"test.json\", orient='records')"
   ]
  },
  {
   "cell_type": "code",
   "execution_count": null,
   "metadata": {},
   "outputs": [],
   "source": []
  }
 ],
 "metadata": {
  "kernelspec": {
   "display_name": ".venv",
   "language": "python",
   "name": "python3"
  },
  "language_info": {
   "codemirror_mode": {
    "name": "ipython",
    "version": 3
   },
   "file_extension": ".py",
   "mimetype": "text/x-python",
   "name": "python",
   "nbconvert_exporter": "python",
   "pygments_lexer": "ipython3",
   "version": "3.11.4"
  },
  "orig_nbformat": 4
 },
 "nbformat": 4,
 "nbformat_minor": 2
}
